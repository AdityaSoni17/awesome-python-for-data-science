{
 "cells": [
  {
   "cell_type": "markdown",
   "id": "e6a90a39-427f-4ec5-9ff6-75c9c9bf7140",
   "metadata": {
    "tags": []
   },
   "source": [
    "# Time Series Imputation - Profiling\n",
    "\n",
    "In this notebook, we explore how to profile and understand time-series missing data.\n",
    "For the profiling we will be using ydata-profiling version 4.6.1. \n",
    "\n",
    "For this use-case we will be using a simulated dataset on oil spot prices. In order to validate different imputation methods we have created different missing gaps lenghts that you can find at this github repository folder. \n",
    "\n",
    "- Short gaps: missing_short.csv\n",
    "- Medium gaps: missing_medium.csv\n",
    "- Long gaps: missing_long.csv"
   ]
  },
  {
   "cell_type": "markdown",
   "id": "92c325f9-ce0a-4562-bfdb-b7f347b0623f",
   "metadata": {},
   "source": [
    "### Import the required packages"
   ]
  },
  {
   "cell_type": "code",
   "execution_count": 15,
   "id": "f79dbe7b-369d-4f4e-9245-4468580d5af6",
   "metadata": {
    "tags": []
   },
   "outputs": [],
   "source": [
    "import pandas as pd\n",
    "\n",
    "from ydata.profiling import ProfileReport"
   ]
  },
  {
   "cell_type": "code",
   "execution_count": 16,
   "id": "6b9f69cd-b07b-4b30-9a54-85178616a2a9",
   "metadata": {
    "tags": []
   },
   "outputs": [],
   "source": [
    "df = pd.read_csv('spot_prices_oil.csv')\n",
    "\n",
    "#Configure date column as datetime\n",
    "df[\"Date\"] = pd.to_datetime(df.Date, format=\"%Y-%m-%d %H:%M:%S\")"
   ]
  },
  {
   "cell_type": "markdown",
   "id": "0155f35e-10c0-43bc-b8b7-1ac1cb6b12c0",
   "metadata": {},
   "source": [
    "## Profiling the original dataset"
   ]
  },
  {
   "cell_type": "code",
   "execution_count": 17,
   "id": "ecf9215e-2b02-491f-a2b3-61e071364417",
   "metadata": {
    "tags": []
   },
   "outputs": [],
   "source": [
    "from ydata_profiling import ProfileReport\n",
    "\n",
    "report = ProfileReport(df, tsmode=True)"
   ]
  },
  {
   "cell_type": "code",
   "execution_count": null,
   "id": "6e4ea5a8-bebd-4864-8441-5068cb90f21d",
   "metadata": {
    "tags": []
   },
   "outputs": [
    {
     "data": {
      "application/vnd.jupyter.widget-view+json": {
       "model_id": "ded983bbe065460889190c28f6432808",
       "version_major": 2,
       "version_minor": 0
      },
      "text/plain": [
       "Summarize dataset:   0%|          | 0/5 [00:00<?, ?it/s]"
      ]
     },
     "metadata": {},
     "output_type": "display_data"
    },
    {
     "data": {
      "application/vnd.jupyter.widget-view+json": {
       "model_id": "56fb442f59d24d6c8a7373bc3c4c228a",
       "version_major": 2,
       "version_minor": 0
      },
      "text/plain": [
       "Generate report structure:   0%|          | 0/1 [00:00<?, ?it/s]"
      ]
     },
     "metadata": {},
     "output_type": "display_data"
    }
   ],
   "source": [
    "report"
   ]
  },
  {
   "cell_type": "markdown",
   "id": "0c2e3765-ccc9-473c-b2a8-1ff1ea592be9",
   "metadata": {},
   "source": [
    "## Profiling the the gaps datasets"
   ]
  },
  {
   "cell_type": "code",
   "execution_count": null,
   "id": "b4e4df29-3319-49a0-a69f-ae3eb47db656",
   "metadata": {
    "tags": []
   },
   "outputs": [],
   "source": [
    "short_gaps = pd.read_csv('missing_short.csv', index_col=[0])"
   ]
  },
  {
   "cell_type": "code",
   "execution_count": null,
   "id": "918f82f5-8ad3-44b8-b9e0-461d98d92c3f",
   "metadata": {
    "tags": []
   },
   "outputs": [],
   "source": [
    "from ydata_profiling import ProfileReport\n",
    "\n",
    "short_gaps_report = ProfileReport(short_gaps, tsmode=True)"
   ]
  },
  {
   "cell_type": "code",
   "execution_count": null,
   "id": "82b502dc-6841-4021-89f2-2cf999066a26",
   "metadata": {
    "tags": []
   },
   "outputs": [],
   "source": [
    "short_gaps_report"
   ]
  },
  {
   "cell_type": "code",
   "execution_count": null,
   "id": "3fa46346-1cba-4d21-8e5e-6ab57854888f",
   "metadata": {},
   "outputs": [],
   "source": [
    "##saving as a file\n",
    "short_gaps_report.to_file('missing_data_profile.html')"
   ]
  }
 ],
 "metadata": {
  "kernelspec": {
   "display_name": "Python 3 (ipykernel)",
   "language": "python",
   "name": "python3"
  },
  "language_info": {
   "codemirror_mode": {
    "name": "ipython",
    "version": 3
   },
   "file_extension": ".py",
   "mimetype": "text/x-python",
   "name": "python",
   "nbconvert_exporter": "python",
   "pygments_lexer": "ipython3",
   "version": "3.10.12"
  }
 },
 "nbformat": 4,
 "nbformat_minor": 5
}
