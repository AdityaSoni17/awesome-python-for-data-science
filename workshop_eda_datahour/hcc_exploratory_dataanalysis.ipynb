{
 "cells": [
  {
   "cell_type": "markdown",
   "id": "739ce4df",
   "metadata": {},
   "source": [
    "# Exploratory Data Analysis - HCC dataset\n",
    "\n",
    "In this notebook, we will analyse the [HCC Dataset](https://www.kaggle.com/datasets/mrsantos/hcc-dataset).\n",
    "\n",
    "Some of the questions we're looking to answer are:\n",
    "\n",
    "## Basic Analysis\n",
    "- 1. How many columns composed the dataset?\n",
    "- 2. What are the data types for each of the columns?\n",
    "- 3. What are the univariate distributions and behaviours for each variable\n",
    "\n",
    "## Data quality validation\n",
    "- 4. Do I have any issues: imbalanced data, skewness, high-cardinality, zeros, etc.\n",
    "\n",
    "## Multivariate analysis\n",
    "- 5. Are there variables highly correlated?\n",
    "- 6. How are the interactions between columns?\n",
    "\n",
    "## Missing data\n",
    "- 7. Does my dataset have missing data?\n",
    "- 8. Is my missing data correlated?\n",
    "\n",
    "## Compare 2 different populations\n",
    "- 9. What are the differences in terms of distributions and data behaviours for 2 populations: x vs y"
   ]
  },
  {
   "cell_type": "markdown",
   "source": [
    "### Import required packages"
   ],
   "metadata": {
    "collapsed": false
   }
  },
  {
   "cell_type": "code",
   "execution_count": null,
   "id": "1d2a70e0",
   "metadata": {
    "pycharm": {
     "is_executing": true
    }
   },
   "outputs": [],
   "source": [
    "import pandas as pd\n",
    "from ydata_profiling import ProfileReport"
   ]
  },
  {
   "cell_type": "markdown",
   "source": [
    "## Generate the dataset Exploratory data analysis"
   ],
   "metadata": {
    "collapsed": false
   }
  },
  {
   "cell_type": "code",
   "execution_count": 7,
   "id": "5ee98611",
   "metadata": {},
   "outputs": [
    {
     "data": {
      "application/vnd.jupyter.widget-view+json": {
       "model_id": "36fc896704ac40e09954e0be1aa6ffb2",
       "version_major": 2,
       "version_minor": 0
      },
      "text/plain": [
       "Summarize dataset:   0%|          | 0/5 [00:00<?, ?it/s]"
      ]
     },
     "metadata": {},
     "output_type": "display_data"
    },
    {
     "data": {
      "application/vnd.jupyter.widget-view+json": {
       "model_id": "4c5771e1a87c482281b652b44612eeaf",
       "version_major": 2,
       "version_minor": 0
      },
      "text/plain": [
       "Generate report structure:   0%|          | 0/1 [00:00<?, ?it/s]"
      ]
     },
     "metadata": {},
     "output_type": "display_data"
    },
    {
     "data": {
      "application/vnd.jupyter.widget-view+json": {
       "model_id": "ed972f64e1f64e8ab578ec89d2209ff1",
       "version_major": 2,
       "version_minor": 0
      },
      "text/plain": [
       "Render HTML:   0%|          | 0/1 [00:00<?, ?it/s]"
      ]
     },
     "metadata": {},
     "output_type": "display_data"
    },
    {
     "data": {
      "application/vnd.jupyter.widget-view+json": {
       "model_id": "a269eafb05c3465f9183ae8149ff8f84",
       "version_major": 2,
       "version_minor": 0
      },
      "text/plain": [
       "Export report to file:   0%|          | 0/1 [00:00<?, ?it/s]"
      ]
     },
     "metadata": {},
     "output_type": "display_data"
    }
   ],
   "source": [
    "#Read data and generate data profiling report\n",
    "df = pd.read_csv(\"data/hcc-data.csv\")"
   ]
  },
  {
   "cell_type": "code",
   "execution_count": null,
   "outputs": [],
   "source": [
    "report = ProfileReport(df, title='HCC profile report')\n",
    "\n",
    "#Save the report as an html file\n",
    "report.to_file(\"hcc_report.html\")"
   ],
   "metadata": {
    "collapsed": false
   }
  },
  {
   "cell_type": "code",
   "execution_count": null,
   "outputs": [],
   "source": [
    "report"
   ],
   "metadata": {
    "collapsed": false
   }
  },
  {
   "cell_type": "markdown",
   "source": [
    "## Compare 2 populations"
   ],
   "metadata": {
    "collapsed": false
   }
  },
  {
   "cell_type": "code",
   "execution_count": null,
   "outputs": [],
   "source": [
    "#Create the 2 sub-populations from the dataset\n",
    "df1 = df[df['']==]\n",
    "df2 = df[df['']==]"
   ],
   "metadata": {
    "collapsed": false
   }
  },
  {
   "cell_type": "code",
   "execution_count": null,
   "outputs": [],
   "source": [
    "report1 = ProfileReport(df1, title='X profile report')\n",
    "report2 = ProfileReport(df2, title='Y profile report')\n",
    "\n",
    "#create the comparison report between both populations\n",
    "compare = report1.compare(report2)\n",
    "\n",
    "#Save the report as a html file\n",
    "compare.to_file(\"hcc_compare_report.html\")"
   ],
   "metadata": {
    "collapsed": false
   }
  }
 ],
 "metadata": {
  "kernelspec": {
   "display_name": "Python 3 (ipykernel)",
   "language": "python",
   "name": "python3"
  },
  "language_info": {
   "codemirror_mode": {
    "name": "ipython",
    "version": 3
   },
   "file_extension": ".py",
   "mimetype": "text/x-python",
   "name": "python",
   "nbconvert_exporter": "python",
   "pygments_lexer": "ipython3",
   "version": "3.10.12"
  }
 },
 "nbformat": 4,
 "nbformat_minor": 5
}
